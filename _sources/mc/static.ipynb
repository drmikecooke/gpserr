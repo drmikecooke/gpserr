{
 "cells": [
  {
   "cell_type": "markdown",
   "id": "b8d64175-31fc-4376-b9ed-daca2f3c4c2c",
   "metadata": {},
   "source": [
    "# Stationary path Monte Carlo\n",
    "\n",
    "We imagine a stationary object taking GPS readings. The standard deviation of the coordinates gives the length scale. By digging around the numpy site, I could no doubt present that as data to the normal distribution being used. Also for the moving Monte Carlos, one might also be interested in giving a mean . . ."
   ]
  },
  {
   "cell_type": "code",
   "execution_count": 1,
   "id": "108f9e21-aa44-4fd8-8680-7f40af932f99",
   "metadata": {},
   "outputs": [
    {
     "name": "stdout",
     "output_type": "stream",
     "text": [
      "Average 0 over N: 1.7726322519378428\n",
      "Average 1 over N: 1.7707586039024914\n",
      "Average 2 over N: 1.7751776807048822\n",
      "Average 3 over N: 1.7697286615225563\n",
      "Average 4 over N: 1.769527177979584\n",
      "Average 5 over N: 1.7715467448932172\n",
      "Average 6 over N: 1.769854641319621\n",
      "Average 7 over N: 1.7719941227587468\n",
      "Average 8 over N: 1.7684856940173148\n",
      "Average 9 over N: 1.772147661610396\n",
      "Average over M: 1.7711853240646653\n"
     ]
    }
   ],
   "source": [
    "import numpy as np\n",
    "rng = np.random.default_rng()\n",
    "\n",
    "s=0\n",
    "M=10 # number of paths\n",
    "\n",
    "for m in range(M):\n",
    "  N=100000\n",
    "  X=rng.standard_normal(N)\n",
    "  Y=rng.standard_normal(N)\n",
    "  S=[((X[k+1]-X[k])**2+(Y[k+1]-Y[k])**2)**(1/2) for k in range(N-1)] # evaluate distances\n",
    "  print(\"Average\",m,\"over N:\",sum(S)/(N-1)) # average per step\n",
    "  s+=sum(S)/(N-1)\n",
    "\n",
    "print(\"Average over M:\",s/M)"
   ]
  },
  {
   "cell_type": "code",
   "execution_count": null,
   "id": "f746034c-c2e2-4914-9410-9fa0c7d7beb4",
   "metadata": {},
   "outputs": [],
   "source": []
  }
 ],
 "metadata": {
  "kernelspec": {
   "display_name": "Python 3 (ipykernel)",
   "language": "python",
   "name": "python3"
  },
  "language_info": {
   "codemirror_mode": {
    "name": "ipython",
    "version": 3
   },
   "file_extension": ".py",
   "mimetype": "text/x-python",
   "name": "python",
   "nbconvert_exporter": "python",
   "pygments_lexer": "ipython3",
   "version": "3.9.2"
  }
 },
 "nbformat": 4,
 "nbformat_minor": 5
}
