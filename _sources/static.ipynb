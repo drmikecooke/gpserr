{
 "cells": [
  {
   "attachments": {},
   "cell_type": "markdown",
   "id": "d2b97eb1-5c19-45b7-a975-8014898bed10",
   "metadata": {},
   "source": [
    "# Stationary GPS\n",
    "\n",
    "Assume Gaussian errors for $x$ and $y$ both of standard deviation $\\sigma$; i.e., the probability measure is:\n",
    "\n",
    "$$p(x,y)dxdy=\\exp[-(x^2+y^2)/2\\sigma^2]dxdy/2\\pi\\sigma^2$$\n",
    "\n",
    "For my own peace of mind, let's determine that the normalization is correct (i.e., 1) by transferring to polar coordinates:\n",
    "\n",
    "$$p(r,\\theta)drd\\theta&=\\exp[-r^2/2\\sigma^2]rdrd\\theta/2\\pi\\sigma^2 \\\\\n",
    "&=\\exp[-r^2/2\\sigma^2]d(r^2/2\\sigma^2)d\\theta/2\\pi$$\n",
    "\n",
    "Integrating out gives 1. The mean is at the origin. The standard deviation for the radius vector is given by the square root of:\n",
    "\n",
    "$$\\int_0^\\infty r^2\\exp[-r^2/2\\sigma^2]d(r^2/2\\sigma^2)=2\\sigma^2\\int_0^\\infty x\\exp[-x]dx=2\\sigma^2\\Gamma(2)=2\\sigma^2$$\n",
    "\n",
    "We want to determine the probability distribution of the \"distance\" between two successive determinations of \"GPS\" coordinates of a stationary object."
   ]
  },
  {
   "cell_type": "code",
   "execution_count": 1,
   "id": "914a6e54-c404-4339-ab55-3ebfab5b2b20",
   "metadata": {},
   "outputs": [
    {
     "data": {
      "text/plain": [
       "1.7723106898150573"
      ]
     },
     "execution_count": 1,
     "metadata": {},
     "output_type": "execute_result"
    }
   ],
   "source": [
    "import numpy as np\n",
    "rng = np.random.default_rng()\n",
    "\n",
    "s=0\n",
    "M=100000\n",
    "for i in range(M):\n",
    "  N=2\n",
    "  X=rng.standard_normal(N)\n",
    "  Y=rng.standard_normal(N)\n",
    "  S=[((X[k+1]-X[k])**2+(Y[k+1]-Y[k])**2)**(1/2) for k in range(N-1)]\n",
    "  s+=sum(S)/(N-1)\n",
    "\n",
    "s/M"
   ]
  },
  {
   "cell_type": "markdown",
   "id": "b1415024-86b9-4653-9b50-82bbc4f43881",
   "metadata": {},
   "source": [
    "The average distance between two determinations, $\\mathbf r$ and $\\mathbf r'$, is given by:\n",
    "\n",
    "$$\\left<|\\mathbf r'-\\mathbf r|\\right>=\\int d^2\\mathbf rd^2\\mathbf r' |\\mathbf r'-\\mathbf r|p(\\mathbf r)p(\\mathbf r')$$"
   ]
  },
  {
   "cell_type": "markdown",
   "id": "986002fd-1ad1-4895-9781-2fc08b5f3100",
   "metadata": {},
   "source": [
    "We note that:\n",
    "\n",
    "$$\\mathbf R=\\frac{\\mathbf r +\\mathbf r'}2,\\Delta\\mathbf r=\\mathbf r'-\\mathbf r$$\n",
    "\n",
    "gives:\n",
    "\n",
    "$$r^2+r'^2=2R^2+\\frac{\\Delta r^2}2$$"
   ]
  },
  {
   "cell_type": "markdown",
   "id": "370fd3ee-a324-4c1d-9081-fb3509618404",
   "metadata": {},
   "source": [
    "By considering the Jacobian factors:\n",
    "\n",
    "$$d^2\\mathbf Rd^2\\Delta\\mathbf r=d^2\\mathbf rd^2\\mathbf r'$$"
   ]
  },
  {
   "cell_type": "markdown",
   "id": "c5146908-8069-4913-b979-3322da1b8067",
   "metadata": {},
   "source": [
    "For determining the average distance per step, we can integrate out $\\mathbf R$, and concentrate on $\\Delta\\mathbf r$, which has the probability density:\n",
    "\n",
    "$$p(\\Delta\\mathbf r)d^2\\Delta\\mathbf r=\\exp(-\\Delta\\mathbf r^2/4\\sigma^2)d^2\\Delta\\mathbf r/4\\pi\\sigma^2$$"
   ]
  },
  {
   "cell_type": "markdown",
   "id": "a79d52d5-3d4b-4924-ad6e-2364faaaf316",
   "metadata": {},
   "source": [
    "We can transform into polar coordinates, $\\Delta r$ and $\\theta$, and integrate out the angular dependence:\n",
    "\n",
    "$$p(\\Delta r)d\\Delta r=\\exp(-\\Delta r^2/4\\sigma^2)\\Delta rd\\Delta r/2\\sigma^2$$"
   ]
  },
  {
   "cell_type": "markdown",
   "id": "fe4f3c28-866c-4358-8457-584e90e246c5",
   "metadata": {},
   "source": [
    "For our distance average, we just transform to $s=\\Delta r^2/4\\sigma^2$:\n",
    "\n",
    "$$\\left<\\Delta r\\right>=\\int \\exp(-s)ds [2\\sigma s^{(1/2)}]=2\\sigma\\Gamma(3/2)=\\sqrt{\\pi}\\sigma$$"
   ]
  },
  {
   "cell_type": "markdown",
   "id": "b6d2d377-a025-4a78-b4eb-5965c6f69d0d",
   "metadata": {},
   "source": [
    "The square bracket contains $\\Delta r$ is terms of the variable $s$. We point out that $\\sqrt\\pi\\approx1.772$, consistent with the Monte Carlo results. For higher powers, we just get the relevant higher argument $\\Gamma$ multiplied by a suitable factor."
   ]
  },
  {
   "cell_type": "code",
   "execution_count": null,
   "id": "5432542b-4919-4960-8813-8ee14d65ffb6",
   "metadata": {},
   "outputs": [],
   "source": []
  }
 ],
 "metadata": {
  "kernelspec": {
   "display_name": "Python 3 (ipykernel)",
   "language": "python",
   "name": "python3"
  },
  "language_info": {
   "codemirror_mode": {
    "name": "ipython",
    "version": 3
   },
   "file_extension": ".py",
   "mimetype": "text/x-python",
   "name": "python",
   "nbconvert_exporter": "python",
   "pygments_lexer": "ipython3",
   "version": "3.9.2"
  }
 },
 "nbformat": 4,
 "nbformat_minor": 5
}
