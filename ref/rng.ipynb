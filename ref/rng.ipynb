{
 "cells": [
  {
   "cell_type": "markdown",
   "id": "e31c46f0-c981-4c73-9c4a-57e799ffbf23",
   "metadata": {},
   "source": [
    "# Numpy randon number generator use"
   ]
  },
  {
   "cell_type": "code",
   "execution_count": 3,
   "id": "cf0083ee-abd7-46f7-8cdd-483accd8f5f2",
   "metadata": {},
   "outputs": [
    {
     "name": "stdout",
     "output_type": "stream",
     "text": [
      "0.1710518733151345\n",
      "[-0.78157974 -1.30908906  0.00317421 -0.23715375  0.3580043   0.20748174\n",
      " -1.82126587  0.02664233 -0.37280872  0.09694241]\n",
      "[2 8 0 7 4]\n"
     ]
    }
   ],
   "source": [
    "import numpy as np\n",
    "rng = np.random.default_rng()\n",
    "# Generate one random float uniformly distributed over the range [0, 1)\n",
    "print(rng.random())\n",
    "# Generate an array of 10 numbers according to a unit Gaussian distribution.\n",
    "print(rng.standard_normal(10))\n",
    "# Generate an array of 5 integers uniformly over the range [0, 10).\n",
    "print(rng.integers(low=0, high=10, size=5))"
   ]
  },
  {
   "cell_type": "code",
   "execution_count": null,
   "id": "582771a2-94b8-4dcb-9c96-97b3e4cd58f5",
   "metadata": {},
   "outputs": [],
   "source": []
  }
 ],
 "metadata": {
  "kernelspec": {
   "display_name": "Python 3 (ipykernel)",
   "language": "python",
   "name": "python3"
  },
  "language_info": {
   "codemirror_mode": {
    "name": "ipython",
    "version": 3
   },
   "file_extension": ".py",
   "mimetype": "text/x-python",
   "name": "python",
   "nbconvert_exporter": "python",
   "pygments_lexer": "ipython3",
   "version": "3.9.2"
  }
 },
 "nbformat": 4,
 "nbformat_minor": 5
}
